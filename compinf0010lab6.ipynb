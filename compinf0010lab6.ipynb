{
 "cells": [
  {
   "cell_type": "code",
   "execution_count": 2,
   "metadata": {},
   "outputs": [
    {
     "name": "stdin",
     "output_type": "stream",
     "text": [
      "Please enter a string hello\n",
      "Please enter another string cao\n"
     ]
    },
    {
     "name": "stdout",
     "output_type": "stream",
     "text": [
      "The number of vawels is 2\n",
      "The number of consonants is 3\n",
      "The number of vawels is 2\n",
      "The number of consonants is 1\n"
     ]
    }
   ], 
   "source": [
    "strenter = input(\"Please enter a string\")\n",
    "strenter2 = input(\"Please enter another string\") \n",
    "strleng = len(strenter)\n",
    "count = 0\n",
    "for letter in strenter:\n",
    "    if letter == 'a':\n",
    "        count = count + 1\n",
    "    if letter == \"e\":\n",
    "        count = count + 1\n",
    "    if letter == \"i\":\n",
    "        count = count + 1\n",
    "    if letter == \"o\":\n",
    "        count = count + 1\n",
    "    if letter == \"u\":\n",
    "        count = count + 1\n",
    "    if letter == \"y\":\n",
    "        count = count + 1\n",
    "\n",
    "strleng2 = len(strenter2)\n",
    "counta = 0\n",
    "for letters in strenter2:\n",
    "    if letters == 'a':\n",
    "        counta = counta + 1\n",
    "    if letters == \"e\":\n",
    "        counta = counta + 1\n",
    "    if letters == \"i\":\n",
    "        counta = counta + 1\n",
    "    if letters == \"o\":\n",
    "        counta = counta + 1\n",
    "    if letters == \"u\":\n",
    "        counta = counta + 1\n",
    "    if letters == \"y\":\n",
    "        counta = counta + 1\n",
    "\n",
    "lengaa = strleng - count\n",
    "lengab = strleng2 - counta    \n",
    "    \n",
    "print(\"The number of vawels is\", count)\n",
    "print(\"The number of consonants is\", lengaa)\n",
    "print(\"The number of vawels is\", counta)\n",
    "print(\"The number of consonants is\", lengab)"
   ]
  },
  {
   "cell_type": "code",
   "execution_count": null,
   "metadata": {},
   "outputs": [],
   "source": []
  }
 ],
 "metadata": {
  "kernelspec": {
   "display_name": "Python 3",
   "language": "python",
   "name": "python3"
  },
  "language_info": {
   "codemirror_mode": {
    "name": "ipython",
    "version": 3
   },
   "file_extension": ".py",
   "mimetype": "text/x-python",
   "name": "python",
   "nbconvert_exporter": "python",
   "pygments_lexer": "ipython3",
   "version": "3.8.3"
  }
 },
 "nbformat": 4,
 "nbformat_minor": 4
}
